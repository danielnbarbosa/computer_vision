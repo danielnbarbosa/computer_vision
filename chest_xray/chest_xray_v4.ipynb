{
 "cells": [
  {
   "cell_type": "markdown",
   "metadata": {},
   "source": [
    "#### About"
   ]
  },
  {
   "cell_type": "markdown",
   "metadata": {},
   "source": [
    "resnet50 with progressive resizing, first 224 then 512"
   ]
  },
  {
   "cell_type": "markdown",
   "metadata": {
    "_uuid": "0948c6343070fea1d2a48b55f71bc22e549d4aac"
   },
   "source": [
    "#### Load libraries"
   ]
  },
  {
   "cell_type": "code",
   "execution_count": null,
   "metadata": {},
   "outputs": [],
   "source": [
    "%reload_ext autoreload\n",
    "%autoreload 2\n",
    "%matplotlib inline"
   ]
  },
  {
   "cell_type": "code",
   "execution_count": null,
   "metadata": {
    "_cell_guid": "79c7e3d0-c299-4dcb-8224-4455121ee9b0",
    "_uuid": "d629ff2d2480ee46fbb7e2d37f6b5fab8052498a"
   },
   "outputs": [],
   "source": [
    "import fastai\n",
    "from fastai.vision import *"
   ]
  },
  {
   "cell_type": "code",
   "execution_count": null,
   "metadata": {},
   "outputs": [],
   "source": [
    "# show versions\n",
    "print('fastai:', fastai.__version__)\n",
    "print('pytorch:', torch.__version__)\n",
    "print('python:', sys.version.split('|')[0])"
   ]
  },
  {
   "cell_type": "markdown",
   "metadata": {
    "_uuid": "dfc2399019298d58d0469608fbb7e81be829b5f0"
   },
   "source": [
    "#### Examine dataset"
   ]
  },
  {
   "cell_type": "code",
   "execution_count": null,
   "metadata": {},
   "outputs": [],
   "source": [
    "# download the dataset\n",
    "! mkdir -p /home/ubuntu/.fastai/data; \n",
    "! cd /home/ubuntu/.fastai/data; wget -nc https://data.mendeley.com/datasets/rscbjbr9sj/2/files/41d542e7-7f91-47f6-9ff2-dd8e5a5a7861/ChestXRay2017.zip; unzip -n -q ChestXRay2017.zip"
   ]
  },
  {
   "cell_type": "code",
   "execution_count": null,
   "metadata": {
    "_uuid": "c098a826c4db566fff757bdb489765707fd0609a"
   },
   "outputs": [],
   "source": [
    "# see what files we've got\n",
    "path=Path('/home/ubuntu/.fastai/data/chest_xray')\n",
    "path.ls()"
   ]
  },
  {
   "cell_type": "code",
   "execution_count": null,
   "metadata": {},
   "outputs": [],
   "source": [
    "Path(path/'train').ls()"
   ]
  },
  {
   "cell_type": "code",
   "execution_count": null,
   "metadata": {
    "_uuid": "af0ab89536a47666504c607ec848f581488ae007"
   },
   "outputs": [],
   "source": [
    "# show some sample paths to the images\n",
    "get_image_files(path/'train/NORMAL')[:5]"
   ]
  },
  {
   "cell_type": "code",
   "execution_count": null,
   "metadata": {},
   "outputs": [],
   "source": [
    "# look the shape and visualize one image\n",
    "img = open_image(get_image_files(path/'train/NORMAL')[0])\n",
    "print(img.shape)\n",
    "img.show()"
   ]
  },
  {
   "cell_type": "code",
   "execution_count": null,
   "metadata": {},
   "outputs": [],
   "source": [
    "# see how much data there is\n",
    "print('train/NORMAL:   ', len(os.listdir(path/'train/NORMAL')))\n",
    "print('train/PNEUMONIA:', len(os.listdir(path/'train/PNEUMONIA')))\n",
    "print('test/NORMAL:    ', len(os.listdir(path/'test/NORMAL')))\n",
    "print('test/PNEUMONIA: ', len(os.listdir(path/'test/PNEUMONIA')))"
   ]
  },
  {
   "cell_type": "markdown",
   "metadata": {
    "_uuid": "0743b6bd094b2eb40ef90cf605772e3c520fe5b5"
   },
   "source": [
    "#### Create datablock"
   ]
  },
  {
   "cell_type": "code",
   "execution_count": null,
   "metadata": {
    "_uuid": "bf1f21bfec2320cdd601af9c23ce290a8df9d570"
   },
   "outputs": [],
   "source": [
    "# set hyperparamters\n",
    "np.random.seed(42)\n",
    "size = 224\n",
    "bs = 64\n",
    "num_workers = 4"
   ]
  },
  {
   "cell_type": "code",
   "execution_count": null,
   "metadata": {},
   "outputs": [],
   "source": [
    "# define data augmentation transformations\n",
    "tfms = get_transforms()"
   ]
  },
  {
   "cell_type": "markdown",
   "metadata": {},
   "source": [
    "Because we have a labeled test set, we'll be using the `test` directory as the valdation set."
   ]
  },
  {
   "cell_type": "code",
   "execution_count": null,
   "metadata": {},
   "outputs": [],
   "source": [
    "src = (ImageItemList.from_folder(path)\n",
    "       .split_by_folder(train='train', valid='test')\n",
    "       .label_from_folder())"
   ]
  },
  {
   "cell_type": "code",
   "execution_count": null,
   "metadata": {},
   "outputs": [],
   "source": [
    "data = (src.transform(tfms, size=size)\n",
    "        .databunch(bs=bs, num_workers=num_workers)\n",
    "        .normalize(imagenet_stats))"
   ]
  },
  {
   "cell_type": "markdown",
   "metadata": {},
   "source": [
    "#### Do sanity checks"
   ]
  },
  {
   "cell_type": "code",
   "execution_count": null,
   "metadata": {
    "_uuid": "87917cc445baa2e7809bbec9e9737f426acc02bc"
   },
   "outputs": [],
   "source": [
    "# verify datasets loaded properly\n",
    "print(len(data.train_ds))\n",
    "print(len(data.valid_ds))"
   ]
  },
  {
   "cell_type": "code",
   "execution_count": null,
   "metadata": {
    "_uuid": "7adebb077bc97d8493e864a515deb66e14169f5a"
   },
   "outputs": [],
   "source": [
    "data.classes"
   ]
  },
  {
   "cell_type": "code",
   "execution_count": null,
   "metadata": {
    "_uuid": "1ff1232900ccc09cd93b82b51faca0cf6f947258"
   },
   "outputs": [],
   "source": [
    "data.show_batch(rows=3, figsize=(7,6))"
   ]
  },
  {
   "cell_type": "markdown",
   "metadata": {},
   "source": [
    "#### Create model"
   ]
  },
  {
   "cell_type": "code",
   "execution_count": null,
   "metadata": {},
   "outputs": [],
   "source": [
    "# define architecture\n",
    "arch = models.resnet50"
   ]
  },
  {
   "cell_type": "code",
   "execution_count": null,
   "metadata": {},
   "outputs": [],
   "source": [
    "# create learner\n",
    "learn = create_cnn(data, arch, metrics=accuracy)"
   ]
  },
  {
   "cell_type": "code",
   "execution_count": null,
   "metadata": {},
   "outputs": [],
   "source": [
    "# find ideal learning rate\n",
    "learn.lr_find()\n",
    "learn.recorder.plot()"
   ]
  },
  {
   "cell_type": "code",
   "execution_count": null,
   "metadata": {},
   "outputs": [],
   "source": [
    "lr = 9.1e-3"
   ]
  },
  {
   "cell_type": "markdown",
   "metadata": {},
   "source": [
    "#### Train on frozen model"
   ]
  },
  {
   "cell_type": "code",
   "execution_count": null,
   "metadata": {},
   "outputs": [],
   "source": [
    "# first fit the head of the model\n",
    "learn.fit_one_cycle(8, slice(lr))"
   ]
  },
  {
   "cell_type": "code",
   "execution_count": null,
   "metadata": {},
   "outputs": [],
   "source": [
    "learn.recorder.plot_losses()"
   ]
  },
  {
   "cell_type": "code",
   "execution_count": null,
   "metadata": {
    "_uuid": "e1ba37b6524a2a9249c4a9212a9f6b83a4432f97"
   },
   "outputs": [],
   "source": [
    "learn.save('stage-1-size299')"
   ]
  },
  {
   "cell_type": "markdown",
   "metadata": {
    "_uuid": "3922dc4ce94456fec688f4cd66c7257f65c7fbaa"
   },
   "source": [
    "#### Train on unfrozen model"
   ]
  },
  {
   "cell_type": "code",
   "execution_count": null,
   "metadata": {
    "_uuid": "78c92b672b8523ef9fecfaf03002d54496cb70a2"
   },
   "outputs": [],
   "source": [
    "learn.unfreeze()"
   ]
  },
  {
   "cell_type": "code",
   "execution_count": null,
   "metadata": {
    "_uuid": "b521b7e8dde30b2c6b4fb73120c32035405ba1ce"
   },
   "outputs": [],
   "source": [
    "# find ideal learning rate\n",
    "learn.lr_find()\n",
    "learn.recorder.plot()"
   ]
  },
  {
   "cell_type": "code",
   "execution_count": null,
   "metadata": {
    "_uuid": "7562ca2fd8309aac7fd38fa44167c6a4833a7231"
   },
   "outputs": [],
   "source": [
    "# now fit across the entire model\n",
    "learn.fit_one_cycle(3, max_lr=slice(1e-6, 1e-4))"
   ]
  },
  {
   "cell_type": "code",
   "execution_count": null,
   "metadata": {
    "_uuid": "4ecf0938c9cf72c73c2f0f504c959d74dfb4f944"
   },
   "outputs": [],
   "source": [
    "learn.save('stage-2-size299')"
   ]
  },
  {
   "cell_type": "code",
   "execution_count": null,
   "metadata": {},
   "outputs": [],
   "source": [
    "learn.recorder.plot_losses()"
   ]
  },
  {
   "cell_type": "markdown",
   "metadata": {
    "_uuid": "bdad8da0698485557f59cbb9fc2db22651678453"
   },
   "source": [
    "#### Look at results"
   ]
  },
  {
   "cell_type": "code",
   "execution_count": null,
   "metadata": {
    "_uuid": "edebeefc1d24817cdb97e6712ea22f7d99b046ff"
   },
   "outputs": [],
   "source": [
    "interp = ClassificationInterpretation.from_learner(learn)\n",
    "losses,idxs = interp.top_losses()\n",
    "len(data.valid_ds)==len(losses)==len(idxs)"
   ]
  },
  {
   "cell_type": "code",
   "execution_count": null,
   "metadata": {
    "_uuid": "ed06d8f02622ab23136291aaa1357e4bf679bd5e"
   },
   "outputs": [],
   "source": [
    "interp.plot_top_losses(9, figsize=(15,11))"
   ]
  },
  {
   "cell_type": "code",
   "execution_count": null,
   "metadata": {
    "_uuid": "d65b4add69537f1d9427f82d5b4d68e491f1e176"
   },
   "outputs": [],
   "source": [
    "interp.plot_confusion_matrix(figsize=(6,6), dpi=60)"
   ]
  },
  {
   "cell_type": "code",
   "execution_count": null,
   "metadata": {
    "_uuid": "d09707f649e3af92b4fcaa742aa7fcb233a30de1"
   },
   "outputs": [],
   "source": [
    "interp.most_confused(min_val=2)"
   ]
  },
  {
   "cell_type": "markdown",
   "metadata": {
    "_uuid": "be55633c138917f4b0d735e2206398f1f5a66451"
   },
   "source": [
    "Calculate precision and recall.\n",
    "* Precision is a measure of how often we were correct out of all the times we predicted pneumonia.  The error here is cases that were fine that we thought were pneumonia.\n",
    "* Recall is a measure of how often we correctly predicted pneumonia out of all the actual pneumonia cases.  The error here is actual pneumonia cases that we failed to detect.  For these types of medical applications its probably better to optimize for this number."
   ]
  },
  {
   "cell_type": "code",
   "execution_count": null,
   "metadata": {
    "_uuid": "3df8d09ae0c7a64f7cf2b905ffe8fb2e69489b3d"
   },
   "outputs": [],
   "source": [
    "(tn, fp), (fn, tp) = interp.confusion_matrix()"
   ]
  },
  {
   "cell_type": "code",
   "execution_count": null,
   "metadata": {
    "_uuid": "4700c9e42a1e0c22fe058f3d847bbb008e75f584"
   },
   "outputs": [],
   "source": [
    "precision = tp / (tp + fp)\n",
    "recall = tp / (tp + fn)"
   ]
  },
  {
   "cell_type": "code",
   "execution_count": null,
   "metadata": {
    "_uuid": "2b83142e87675fac1f06697f245ae3e38cca47ce"
   },
   "outputs": [],
   "source": [
    "print('Precision: {:.4f}'.format(precision))\n",
    "print('Recall: {:.4f}'.format(recall))"
   ]
  },
  {
   "cell_type": "code",
   "execution_count": null,
   "metadata": {
    "_uuid": "3f94c77c4340a8bd36198f30e9d43094488d3236"
   },
   "outputs": [],
   "source": []
  },
  {
   "cell_type": "code",
   "execution_count": null,
   "metadata": {
    "_uuid": "3f94c77c4340a8bd36198f30e9d43094488d3236"
   },
   "outputs": [],
   "source": []
  }
 ],
 "metadata": {
  "kernelspec": {
   "display_name": "Python 3",
   "language": "python",
   "name": "python3"
  },
  "language_info": {
   "codemirror_mode": {
    "name": "ipython",
    "version": 3
   },
   "file_extension": ".py",
   "mimetype": "text/x-python",
   "name": "python",
   "nbconvert_exporter": "python",
   "pygments_lexer": "ipython3",
   "version": "3.6.5"
  }
 },
 "nbformat": 4,
 "nbformat_minor": 1
}
