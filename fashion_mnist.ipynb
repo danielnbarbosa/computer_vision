{
 "cells": [
  {
   "cell_type": "markdown",
   "metadata": {},
   "source": [
    "### About\n",
    "Multiclass classification on 10 types of clothing using the [FashionMNIST dataset](https://github.com/zalandoresearch/fashion-mnist).  This is meant to be a more challenging version of MNIST.\n",
    "\n",
    "#### Accuracy\n",
    "- Mine: 0.931\n",
    "- [SOTA](https://github.com/zalandoresearch/fashion-mnist): 0.967"
   ]
  },
  {
   "cell_type": "markdown",
   "metadata": {},
   "source": [
    "### Setup\n",
    "Load the fastai libraries."
   ]
  },
  {
   "cell_type": "code",
   "execution_count": 1,
   "metadata": {},
   "outputs": [],
   "source": [
    "from fastai import *\n",
    "from fastai.vision import *\n",
    "import torchvision"
   ]
  },
  {
   "cell_type": "markdown",
   "metadata": {},
   "source": [
    "### Data\n",
    "Download the dataset.  Pytorch provides the dataset and does the work of transforming it into images with labels.  I couldn't figure out how to load pytorch datasets into fastai so I just saved the images out to disk using imagenet style labeling."
   ]
  },
  {
   "cell_type": "code",
   "execution_count": 2,
   "metadata": {},
   "outputs": [],
   "source": [
    "data_dir = '/root/.fastai/data/'\n",
    "os.makedirs(data_dir, exist_ok=True)\n",
    "training_ds = torchvision.datasets.FashionMNIST(data_dir, train=True, download=True)\n",
    "test_ds = torchvision.datasets.FashionMNIST(data_dir, train=False, download=True)"
   ]
  },
  {
   "cell_type": "code",
   "execution_count": 3,
   "metadata": {},
   "outputs": [
    {
     "data": {
      "text/plain": [
       "Dataset FashionMNIST\n",
       "    Number of datapoints: 60000\n",
       "    Split: train\n",
       "    Root Location: /root/.fastai/data/\n",
       "    Transforms (if any): None\n",
       "    Target Transforms (if any): None"
      ]
     },
     "execution_count": 3,
     "metadata": {},
     "output_type": "execute_result"
    }
   ],
   "source": [
    "training_ds"
   ]
  },
  {
   "cell_type": "code",
   "execution_count": 4,
   "metadata": {},
   "outputs": [
    {
     "data": {
      "text/plain": [
       "Dataset FashionMNIST\n",
       "    Number of datapoints: 10000\n",
       "    Split: test\n",
       "    Root Location: /root/.fastai/data/\n",
       "    Transforms (if any): None\n",
       "    Target Transforms (if any): None"
      ]
     },
     "execution_count": 4,
     "metadata": {},
     "output_type": "execute_result"
    }
   ],
   "source": [
    "test_ds"
   ]
  },
  {
   "cell_type": "code",
   "execution_count": 10,
   "metadata": {},
   "outputs": [],
   "source": [
    "# convert pytorch dataset to imagenet style folders with images\n",
    "def ds2folder(ds, path):\n",
    "    path = str(path)\n",
    "    for i in range(len(ds)):\n",
    "        img = ds[i][0]\n",
    "        label = ds[i][1]\n",
    "        os.makedirs(f'{path}/{label}', exist_ok=True)\n",
    "        img.save(f'{path}/{label}/{i}.bmp')"
   ]
  },
  {
   "cell_type": "code",
   "execution_count": 11,
   "metadata": {},
   "outputs": [],
   "source": [
    "path = Path(data_dir + 'FashionMNIST')"
   ]
  },
  {
   "cell_type": "code",
   "execution_count": 12,
   "metadata": {},
   "outputs": [],
   "source": [
    "ds2folder(training_ds, path/'training')"
   ]
  },
  {
   "cell_type": "code",
   "execution_count": 13,
   "metadata": {},
   "outputs": [],
   "source": [
    "ds2folder(test_ds, path/'test')"
   ]
  },
  {
   "cell_type": "markdown",
   "metadata": {},
   "source": [
    "### Model\n",
    "Create the model.  Use a resnet pre-trained on imagenet.  Only do rotation and zoom for data augmentation.  Labeled data is already split into training and validation sets.  There is no unlabeled test data."
   ]
  },
  {
   "cell_type": "code",
   "execution_count": 14,
   "metadata": {},
   "outputs": [],
   "source": [
    "bs = 64\n",
    "num_workers = 8\n",
    "size = 28\n",
    "model = models.resnet18"
   ]
  },
  {
   "cell_type": "code",
   "execution_count": 15,
   "metadata": {},
   "outputs": [],
   "source": [
    "#tfms = get_transforms(do_flip=False, max_lighting=0., max_warp=0., p_lighting=0.)\n",
    "#tfms = get_transforms(max_warp=0., p_lighting=0.)\n",
    "tfms = get_transforms(do_flip=False, max_warp=0., p_lighting=0., )"
   ]
  },
  {
   "cell_type": "code",
   "execution_count": 16,
   "metadata": {},
   "outputs": [],
   "source": [
    "src = (ImageList.from_folder(path)\n",
    "       .split_by_folder(train='training', valid='test')\n",
    "       .label_from_folder())"
   ]
  },
  {
   "cell_type": "code",
   "execution_count": 17,
   "metadata": {},
   "outputs": [],
   "source": [
    "data = (src.transform(tfms, size=size)\n",
    "        .databunch(bs=bs, num_workers=num_workers)\n",
    "        .normalize(imagenet_stats))"
   ]
  },
  {
   "cell_type": "code",
   "execution_count": 18,
   "metadata": {},
   "outputs": [],
   "source": [
    "learn = cnn_learner(data, model, metrics=[accuracy])"
   ]
  },
  {
   "cell_type": "code",
   "execution_count": 19,
   "metadata": {},
   "outputs": [
    {
     "data": {
      "text/plain": [
       "======================================================================\n",
       "Layer (type)         Output Shape         Param #    Trainable \n",
       "======================================================================\n",
       "Conv2d               [64, 14, 14]         9,408      False     \n",
       "______________________________________________________________________\n",
       "BatchNorm2d          [64, 14, 14]         128        True      \n",
       "______________________________________________________________________\n",
       "ReLU                 [64, 14, 14]         0          False     \n",
       "______________________________________________________________________\n",
       "MaxPool2d            [64, 7, 7]           0          False     \n",
       "______________________________________________________________________\n",
       "Conv2d               [64, 7, 7]           36,864     False     \n",
       "______________________________________________________________________\n",
       "BatchNorm2d          [64, 7, 7]           128        True      \n",
       "______________________________________________________________________\n",
       "ReLU                 [64, 7, 7]           0          False     \n",
       "______________________________________________________________________\n",
       "Conv2d               [64, 7, 7]           36,864     False     \n",
       "______________________________________________________________________\n",
       "BatchNorm2d          [64, 7, 7]           128        True      \n",
       "______________________________________________________________________\n",
       "Conv2d               [64, 7, 7]           36,864     False     \n",
       "______________________________________________________________________\n",
       "BatchNorm2d          [64, 7, 7]           128        True      \n",
       "______________________________________________________________________\n",
       "ReLU                 [64, 7, 7]           0          False     \n",
       "______________________________________________________________________\n",
       "Conv2d               [64, 7, 7]           36,864     False     \n",
       "______________________________________________________________________\n",
       "BatchNorm2d          [64, 7, 7]           128        True      \n",
       "______________________________________________________________________\n",
       "Conv2d               [128, 4, 4]          73,728     False     \n",
       "______________________________________________________________________\n",
       "BatchNorm2d          [128, 4, 4]          256        True      \n",
       "______________________________________________________________________\n",
       "ReLU                 [128, 4, 4]          0          False     \n",
       "______________________________________________________________________\n",
       "Conv2d               [128, 4, 4]          147,456    False     \n",
       "______________________________________________________________________\n",
       "BatchNorm2d          [128, 4, 4]          256        True      \n",
       "______________________________________________________________________\n",
       "Conv2d               [128, 4, 4]          8,192      False     \n",
       "______________________________________________________________________\n",
       "BatchNorm2d          [128, 4, 4]          256        True      \n",
       "______________________________________________________________________\n",
       "Conv2d               [128, 4, 4]          147,456    False     \n",
       "______________________________________________________________________\n",
       "BatchNorm2d          [128, 4, 4]          256        True      \n",
       "______________________________________________________________________\n",
       "ReLU                 [128, 4, 4]          0          False     \n",
       "______________________________________________________________________\n",
       "Conv2d               [128, 4, 4]          147,456    False     \n",
       "______________________________________________________________________\n",
       "BatchNorm2d          [128, 4, 4]          256        True      \n",
       "______________________________________________________________________\n",
       "Conv2d               [256, 2, 2]          294,912    False     \n",
       "______________________________________________________________________\n",
       "BatchNorm2d          [256, 2, 2]          512        True      \n",
       "______________________________________________________________________\n",
       "ReLU                 [256, 2, 2]          0          False     \n",
       "______________________________________________________________________\n",
       "Conv2d               [256, 2, 2]          589,824    False     \n",
       "______________________________________________________________________\n",
       "BatchNorm2d          [256, 2, 2]          512        True      \n",
       "______________________________________________________________________\n",
       "Conv2d               [256, 2, 2]          32,768     False     \n",
       "______________________________________________________________________\n",
       "BatchNorm2d          [256, 2, 2]          512        True      \n",
       "______________________________________________________________________\n",
       "Conv2d               [256, 2, 2]          589,824    False     \n",
       "______________________________________________________________________\n",
       "BatchNorm2d          [256, 2, 2]          512        True      \n",
       "______________________________________________________________________\n",
       "ReLU                 [256, 2, 2]          0          False     \n",
       "______________________________________________________________________\n",
       "Conv2d               [256, 2, 2]          589,824    False     \n",
       "______________________________________________________________________\n",
       "BatchNorm2d          [256, 2, 2]          512        True      \n",
       "______________________________________________________________________\n",
       "Conv2d               [512, 1, 1]          1,179,648  False     \n",
       "______________________________________________________________________\n",
       "BatchNorm2d          [512, 1, 1]          1,024      True      \n",
       "______________________________________________________________________\n",
       "ReLU                 [512, 1, 1]          0          False     \n",
       "______________________________________________________________________\n",
       "Conv2d               [512, 1, 1]          2,359,296  False     \n",
       "______________________________________________________________________\n",
       "BatchNorm2d          [512, 1, 1]          1,024      True      \n",
       "______________________________________________________________________\n",
       "Conv2d               [512, 1, 1]          131,072    False     \n",
       "______________________________________________________________________\n",
       "BatchNorm2d          [512, 1, 1]          1,024      True      \n",
       "______________________________________________________________________\n",
       "Conv2d               [512, 1, 1]          2,359,296  False     \n",
       "______________________________________________________________________\n",
       "BatchNorm2d          [512, 1, 1]          1,024      True      \n",
       "______________________________________________________________________\n",
       "ReLU                 [512, 1, 1]          0          False     \n",
       "______________________________________________________________________\n",
       "Conv2d               [512, 1, 1]          2,359,296  False     \n",
       "______________________________________________________________________\n",
       "BatchNorm2d          [512, 1, 1]          1,024      True      \n",
       "______________________________________________________________________\n",
       "AdaptiveAvgPool2d    [512, 1, 1]          0          False     \n",
       "______________________________________________________________________\n",
       "AdaptiveMaxPool2d    [512, 1, 1]          0          False     \n",
       "______________________________________________________________________\n",
       "Flatten              [1024]               0          False     \n",
       "______________________________________________________________________\n",
       "BatchNorm1d          [1024]               2,048      True      \n",
       "______________________________________________________________________\n",
       "Dropout              [1024]               0          False     \n",
       "______________________________________________________________________\n",
       "Linear               [512]                524,800    True      \n",
       "______________________________________________________________________\n",
       "ReLU                 [512]                0          False     \n",
       "______________________________________________________________________\n",
       "BatchNorm1d          [512]                1,024      True      \n",
       "______________________________________________________________________\n",
       "Dropout              [512]                0          False     \n",
       "______________________________________________________________________\n",
       "Linear               [10]                 5,130      True      \n",
       "______________________________________________________________________\n",
       "\n",
       "Total params: 11,709,514\n",
       "Total trainable params: 542,602\n",
       "Total non-trainable params: 11,166,912"
      ]
     },
     "execution_count": 19,
     "metadata": {},
     "output_type": "execute_result"
    }
   ],
   "source": [
    "learn.summary()"
   ]
  },
  {
   "cell_type": "markdown",
   "metadata": {},
   "source": [
    "### Train\n",
    "Run the learning rate finder and train the model using 1-cycle learning."
   ]
  },
  {
   "cell_type": "code",
   "execution_count": 20,
   "metadata": {},
   "outputs": [],
   "source": [
    "learn.unfreeze()"
   ]
  },
  {
   "cell_type": "code",
   "execution_count": 21,
   "metadata": {},
   "outputs": [
    {
     "data": {
      "text/html": [],
      "text/plain": [
       "<IPython.core.display.HTML object>"
      ]
     },
     "metadata": {},
     "output_type": "display_data"
    },
    {
     "name": "stdout",
     "output_type": "stream",
     "text": [
      "LR Finder is complete, type {learner_name}.recorder.plot() to see the graph.\n"
     ]
    },
    {
     "data": {
      "image/png": "[encoded data removed]",
      "text/plain": [
       "<Figure size 432x288 with 1 Axes>"
      ]
     },
     "metadata": {
      "needs_background": "light"
     },
     "output_type": "display_data"
    }
   ],
   "source": [
    "learn.lr_find()\n",
    "learn.recorder.plot()"
   ]
  },
  {
   "cell_type": "code",
   "execution_count": 22,
   "metadata": {},
   "outputs": [
    {
     "data": {
      "text/html": [
       "Total time: 02:40 <p><table border=\"1\" class=\"dataframe\">\n",
       "  <thead>\n",
       "    <tr style=\"text-align: left;\">\n",
       "      <th>epoch</th>\n",
       "      <th>train_loss</th>\n",
       "      <th>valid_loss</th>\n",
       "      <th>accuracy</th>\n",
       "      <th>time</th>\n",
       "    </tr>\n",
       "  </thead>\n",
       "  <tbody>\n",
       "    <tr>\n",
       "      <td>0</td>\n",
       "      <td>0.475819</td>\n",
       "      <td>0.428826</td>\n",
       "      <td>0.849600</td>\n",
       "      <td>00:23</td>\n",
       "    </tr>\n",
       "    <tr>\n",
       "      <td>1</td>\n",
       "      <td>0.456204</td>\n",
       "      <td>0.447116</td>\n",
       "      <td>0.828100</td>\n",
       "      <td>00:23</td>\n",
       "    </tr>\n",
       "    <tr>\n",
       "      <td>2</td>\n",
       "      <td>0.365450</td>\n",
       "      <td>0.303895</td>\n",
       "      <td>0.891300</td>\n",
       "      <td>00:22</td>\n",
       "    </tr>\n",
       "    <tr>\n",
       "      <td>3</td>\n",
       "      <td>0.295299</td>\n",
       "      <td>0.261795</td>\n",
       "      <td>0.902100</td>\n",
       "      <td>00:21</td>\n",
       "    </tr>\n",
       "    <tr>\n",
       "      <td>4</td>\n",
       "      <td>0.247534</td>\n",
       "      <td>0.243486</td>\n",
       "      <td>0.908200</td>\n",
       "      <td>00:21</td>\n",
       "    </tr>\n",
       "    <tr>\n",
       "      <td>5</td>\n",
       "      <td>0.207852</td>\n",
       "      <td>0.210958</td>\n",
       "      <td>0.921200</td>\n",
       "      <td>00:23</td>\n",
       "    </tr>\n",
       "    <tr>\n",
       "      <td>6</td>\n",
       "      <td>0.189364</td>\n",
       "      <td>0.208035</td>\n",
       "      <td>0.923200</td>\n",
       "      <td>00:23</td>\n",
       "    </tr>\n",
       "  </tbody>\n",
       "</table>"
      ],
      "text/plain": [
       "<IPython.core.display.HTML object>"
      ]
     },
     "metadata": {},
     "output_type": "display_data"
    }
   ],
   "source": [
    "learn.fit_one_cycle(7, 3e-3)"
   ]
  },
  {
   "cell_type": "code",
   "execution_count": 24,
   "metadata": {},
   "outputs": [
    {
     "data": {
      "text/html": [],
      "text/plain": [
       "<IPython.core.display.HTML object>"
      ]
     },
     "metadata": {},
     "output_type": "display_data"
    },
    {
     "name": "stdout",
     "output_type": "stream",
     "text": [
      "LR Finder is complete, type {learner_name}.recorder.plot() to see the graph.\n"
     ]
    },
    {
     "data": {
      "image/png": "[encoded data removed]",
      "text/plain": [
       "<Figure size 432x288 with 1 Axes>"
      ]
     },
     "metadata": {
      "needs_background": "light"
     },
     "output_type": "display_data"
    }
   ],
   "source": [
    "learn.lr_find(start_lr=1e-8)\n",
    "learn.recorder.plot()"
   ]
  },
  {
   "cell_type": "code",
   "execution_count": 25,
   "metadata": {},
   "outputs": [
    {
     "data": {
      "text/html": [
       "Total time: 02:40 <p><table border=\"1\" class=\"dataframe\">\n",
       "  <thead>\n",
       "    <tr style=\"text-align: left;\">\n",
       "      <th>epoch</th>\n",
       "      <th>train_loss</th>\n",
       "      <th>valid_loss</th>\n",
       "      <th>accuracy</th>\n",
       "      <th>time</th>\n",
       "    </tr>\n",
       "  </thead>\n",
       "  <tbody>\n",
       "    <tr>\n",
       "      <td>0</td>\n",
       "      <td>0.198589</td>\n",
       "      <td>0.210278</td>\n",
       "      <td>0.923500</td>\n",
       "      <td>00:23</td>\n",
       "    </tr>\n",
       "    <tr>\n",
       "      <td>1</td>\n",
       "      <td>0.191460</td>\n",
       "      <td>0.214392</td>\n",
       "      <td>0.919300</td>\n",
       "      <td>00:23</td>\n",
       "    </tr>\n",
       "    <tr>\n",
       "      <td>2</td>\n",
       "      <td>0.191071</td>\n",
       "      <td>0.208897</td>\n",
       "      <td>0.924400</td>\n",
       "      <td>00:22</td>\n",
       "    </tr>\n",
       "    <tr>\n",
       "      <td>3</td>\n",
       "      <td>0.163538</td>\n",
       "      <td>0.206827</td>\n",
       "      <td>0.926500</td>\n",
       "      <td>00:23</td>\n",
       "    </tr>\n",
       "    <tr>\n",
       "      <td>4</td>\n",
       "      <td>0.159099</td>\n",
       "      <td>0.203161</td>\n",
       "      <td>0.928000</td>\n",
       "      <td>00:22</td>\n",
       "    </tr>\n",
       "    <tr>\n",
       "      <td>5</td>\n",
       "      <td>0.141438</td>\n",
       "      <td>0.198968</td>\n",
       "      <td>0.931200</td>\n",
       "      <td>00:22</td>\n",
       "    </tr>\n",
       "    <tr>\n",
       "      <td>6</td>\n",
       "      <td>0.133545</td>\n",
       "      <td>0.200709</td>\n",
       "      <td>0.928800</td>\n",
       "      <td>00:22</td>\n",
       "    </tr>\n",
       "  </tbody>\n",
       "</table>"
      ],
      "text/plain": [
       "<IPython.core.display.HTML object>"
      ]
     },
     "metadata": {},
     "output_type": "display_data"
    }
   ],
   "source": [
    "learn.fit_one_cycle(7, max_lr=slice(4e-4, 1e-3))"
   ]
  },
  {
   "cell_type": "markdown",
   "metadata": {},
   "source": [
    "### Results\n",
    "Dig into the results by looking at the confusion matrix and plotting top losses."
   ]
  },
  {
   "cell_type": "code",
   "execution_count": 26,
   "metadata": {},
   "outputs": [],
   "source": [
    "preds, targs, losses = learn.get_preds(with_loss=True)"
   ]
  },
  {
   "cell_type": "code",
   "execution_count": 27,
   "metadata": {},
   "outputs": [],
   "source": [
    "interp = ClassificationInterpretation(learn, preds, targs, losses)"
   ]
  },
  {
   "cell_type": "code",
   "execution_count": 28,
   "metadata": {},
   "outputs": [
    {
     "data": {
      "image/png": "[encoded data removed]",
      "text/plain": [
       "<Figure size 432x288 with 1 Axes>"
      ]
     },
     "metadata": {
      "needs_background": "light"
     },
     "output_type": "display_data"
    }
   ],
   "source": [
    "interp.plot_confusion_matrix()"
   ]
  },
  {
   "cell_type": "code",
   "execution_count": 29,
   "metadata": {},
   "outputs": [
    {
     "data": {
      "image/png": "[encoded data removed]",
      "text/plain": [
       "<Figure size 648x648 with 9 Axes>"
      ]
     },
     "metadata": {
      "needs_background": "light"
     },
     "output_type": "display_data"
    }
   ],
   "source": [
    "interp.plot_top_losses(9, figsize=(9, 9))"
   ]
  },
  {
   "cell_type": "code",
   "execution_count": 30,
   "metadata": {},
   "outputs": [
    {
     "data": {
      "text/plain": [
       "[('0', '6', 97),\n",
       " ('6', '0', 75),\n",
       " ('6', '4', 67),\n",
       " ('2', '6', 50),\n",
       " ('2', '4', 49),\n",
       " ('6', '2', 43),\n",
       " ('4', '2', 40),\n",
       " ('4', '6', 37),\n",
       " ('9', '7', 29),\n",
       " ('3', '4', 25),\n",
       " ('4', '3', 22),\n",
       " ('3', '6', 18),\n",
       " ('6', '3', 18),\n",
       " ('7', '9', 17),\n",
       " ('0', '3', 15),\n",
       " ('2', '0', 13),\n",
       " ('0', '2', 11),\n",
       " ('3', '0', 11),\n",
       " ('3', '2', 9)]"
      ]
     },
     "execution_count": 30,
     "metadata": {},
     "output_type": "execute_result"
    }
   ],
   "source": [
    "interp.most_confused(9)"
   ]
  },
  {
   "cell_type": "code",
   "execution_count": 31,
   "metadata": {},
   "outputs": [
    {
     "data": {
      "text/plain": [
       "712"
      ]
     },
     "execution_count": 31,
     "metadata": {},
     "output_type": "execute_result"
    }
   ],
   "source": [
    "# total number of incorrect predictions\n",
    "int(torch.sum(interp.pred_class != interp.y_true))"
   ]
  },
  {
   "cell_type": "code",
   "execution_count": null,
   "metadata": {},
   "outputs": [],
   "source": []
  }
 ],
 "metadata": {
  "kernelspec": {
   "display_name": "Python 3",
   "language": "python",
   "name": "python3"
  },
  "language_info": {
   "codemirror_mode": {
    "name": "ipython",
    "version": 3
   },
   "file_extension": ".py",
   "mimetype": "text/x-python",
   "name": "python",
   "nbconvert_exporter": "python",
   "pygments_lexer": "ipython3",
   "version": "3.6.7"
  }
 },
 "nbformat": 4,
 "nbformat_minor": 2
}
