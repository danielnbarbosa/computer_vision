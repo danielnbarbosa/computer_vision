{
 "cells": [
  {
   "cell_type": "markdown",
   "metadata": {
    "_uuid": "0948c6343070fea1d2a48b55f71bc22e549d4aac"
   },
   "source": [
    "Load libraries"
   ]
  },
  {
   "cell_type": "code",
   "execution_count": 1,
   "metadata": {
    "_cell_guid": "79c7e3d0-c299-4dcb-8224-4455121ee9b0",
    "_uuid": "d629ff2d2480ee46fbb7e2d37f6b5fab8052498a"
   },
   "outputs": [],
   "source": [
    "from fastai.vision import *"
   ]
  },
  {
   "cell_type": "markdown",
   "metadata": {
    "_uuid": "dfc2399019298d58d0469608fbb7e81be829b5f0"
   },
   "source": [
    "Look at dataset"
   ]
  },
  {
   "cell_type": "code",
   "execution_count": 4,
   "metadata": {},
   "outputs": [
    {
     "name": "stdout",
     "output_type": "stream",
     "text": [
      "--2019-02-13 20:12:14--  https://www.kaggle.com/alxmamaev/flowers-recognition/downloads/flowers.zip\n",
      "Resolving www.kaggle.com (www.kaggle.com)... 23.96.207.25\n",
      "Connecting to www.kaggle.com (www.kaggle.com)|23.96.207.25|:443... connected.\n",
      "HTTP request sent, awaiting response... 302 Found\n",
      "Location: /account/login?returnUrl=%2Falxmamaev%2Fflowers-recognition%2Fdata [following]\n",
      "--2019-02-13 20:12:14--  https://www.kaggle.com/account/login?returnUrl=%2Falxmamaev%2Fflowers-recognition%2Fdata\n",
      "Reusing existing connection to www.kaggle.com:443.\n",
      "HTTP request sent, awaiting response... 200 OK\n",
      "Length: unspecified [text/html]\n",
      "Saving to: ‘flowers.zip’\n",
      "\n",
      "flowers.zip             [ <=>                ]   7.81K  --.-KB/s    in 0.001s  \n",
      "\n",
      "2019-02-13 20:12:14 (8.30 MB/s) - ‘flowers.zip’ saved [7997]\n",
      "\n"
     ]
    }
   ],
   "source": [
    "! wget https://www.kaggle.com/alxmamaev/flowers-recognition/downloads/flowers.zip"
   ]
  },
  {
   "cell_type": "code",
   "execution_count": null,
   "metadata": {
    "_uuid": "5227060f82ae990e1a08f9e9a876335a5d159795"
   },
   "outputs": [],
   "source": [
    "path = Path('../input/flowers/flowers')"
   ]
  },
  {
   "cell_type": "code",
   "execution_count": 3,
   "metadata": {
    "_uuid": "c098a826c4db566fff757bdb489765707fd0609a"
   },
   "outputs": [
    {
     "ename": "NameError",
     "evalue": "name 'path' is not defined",
     "output_type": "error",
     "traceback": [
      "\u001b[0;31m---------------------------------------------------------------------------\u001b[0m",
      "\u001b[0;31mNameError\u001b[0m                                 Traceback (most recent call last)",
      "\u001b[0;32m<ipython-input-3-4e20bcf9cc48>\u001b[0m in \u001b[0;36m<module>\u001b[0;34m()\u001b[0m\n\u001b[0;32m----> 1\u001b[0;31m \u001b[0mpath\u001b[0m\u001b[0;34m.\u001b[0m\u001b[0mls\u001b[0m\u001b[0;34m(\u001b[0m\u001b[0;34m)\u001b[0m\u001b[0;34m\u001b[0m\u001b[0m\n\u001b[0m",
      "\u001b[0;31mNameError\u001b[0m: name 'path' is not defined"
     ]
    }
   ],
   "source": [
    "path.ls()"
   ]
  },
  {
   "cell_type": "code",
   "execution_count": null,
   "metadata": {
    "_uuid": "af0ab89536a47666504c607ec848f581488ae007"
   },
   "outputs": [],
   "source": [
    "get_image_files(path/'daisy')[:5]"
   ]
  },
  {
   "cell_type": "markdown",
   "metadata": {
    "_uuid": "0743b6bd094b2eb40ef90cf605772e3c520fe5b5"
   },
   "source": [
    "Create datablock"
   ]
  },
  {
   "cell_type": "code",
   "execution_count": null,
   "metadata": {
    "_uuid": "bf1f21bfec2320cdd601af9c23ce290a8df9d570"
   },
   "outputs": [],
   "source": [
    "bs = 64\n",
    "size = 224\n",
    "num_workers = 0  # set this to 0 to prevent kernel from crashing"
   ]
  },
  {
   "cell_type": "code",
   "execution_count": null,
   "metadata": {
    "_uuid": "35c817b06a3060a49f85cee0590915288efe4508"
   },
   "outputs": [],
   "source": [
    "tfms = get_transforms()                               #Do standard data augmentation\n",
    "data = (ImageItemList.from_folder(path)               #Get data from path\n",
    "        .random_split_by_pct()                        #Randomly separate 20% of data for validation set\n",
    "        .label_from_folder()                          #Label based on dir names\n",
    "        .transform(tfms, size=size)                   #Pass in data augmentation\n",
    "        .databunch(bs=bs, num_workers=num_workers)    #Create ImageDataBunch\n",
    "        .normalize(imagenet_stats))                   #Normalize using imagenet stats"
   ]
  },
  {
   "cell_type": "markdown",
   "metadata": {
    "_uuid": "45564824f9bb235b3edf1acc8eca31f622689ee5"
   },
   "source": [
    "Verify datasets loaded properly.  We should have the following:\n",
    "* train: 3,459\n",
    "* valid: 864"
   ]
  },
  {
   "cell_type": "code",
   "execution_count": null,
   "metadata": {
    "_uuid": "87917cc445baa2e7809bbec9e9737f426acc02bc"
   },
   "outputs": [],
   "source": [
    "print(len(data.train_ds))\n",
    "print(len(data.valid_ds))"
   ]
  },
  {
   "cell_type": "code",
   "execution_count": null,
   "metadata": {
    "_uuid": "7adebb077bc97d8493e864a515deb66e14169f5a"
   },
   "outputs": [],
   "source": [
    "data.classes"
   ]
  },
  {
   "cell_type": "markdown",
   "metadata": {
    "_uuid": "d9ca16cd04f45d9a0bb38c844614d42d4a51acde"
   },
   "source": [
    "Visualize data"
   ]
  },
  {
   "cell_type": "code",
   "execution_count": null,
   "metadata": {
    "_uuid": "1ff1232900ccc09cd93b82b51faca0cf6f947258"
   },
   "outputs": [],
   "source": [
    "data.show_batch(rows=3, figsize=(7,6))"
   ]
  },
  {
   "cell_type": "markdown",
   "metadata": {
    "_uuid": "f62af47e7709d5479bb129377a978aef522e2684"
   },
   "source": [
    "Create learner using pre-trained model"
   ]
  },
  {
   "cell_type": "code",
   "execution_count": null,
   "metadata": {
    "_uuid": "21209008a029b7e48ddb80743b4b847518b15b8d"
   },
   "outputs": [],
   "source": [
    "learn = create_cnn(data, models.resnet50, metrics=accuracy, model_dir='/tmp/models')"
   ]
  },
  {
   "cell_type": "markdown",
   "metadata": {
    "_uuid": "5db283d341ba55f43d6c63132eda3d663819eb38"
   },
   "source": [
    "Fit the model with most layers frozen"
   ]
  },
  {
   "cell_type": "code",
   "execution_count": null,
   "metadata": {
    "_uuid": "3c39f2511ce7dd8a1eaef3547223f064d21da0a2"
   },
   "outputs": [],
   "source": [
    "learn.fit_one_cycle(4)"
   ]
  },
  {
   "cell_type": "code",
   "execution_count": null,
   "metadata": {
    "_uuid": "e1ba37b6524a2a9249c4a9212a9f6b83a4432f97"
   },
   "outputs": [],
   "source": [
    "learn.save('stage-1')"
   ]
  },
  {
   "cell_type": "markdown",
   "metadata": {
    "_uuid": "3922dc4ce94456fec688f4cd66c7257f65c7fbaa"
   },
   "source": [
    "Unfreeze all layers, use learning rate finder, fit some more"
   ]
  },
  {
   "cell_type": "code",
   "execution_count": null,
   "metadata": {
    "_uuid": "78c92b672b8523ef9fecfaf03002d54496cb70a2"
   },
   "outputs": [],
   "source": [
    "learn.unfreeze()"
   ]
  },
  {
   "cell_type": "code",
   "execution_count": null,
   "metadata": {
    "_uuid": "b521b7e8dde30b2c6b4fb73120c32035405ba1ce"
   },
   "outputs": [],
   "source": [
    "learn.lr_find()\n",
    "learn.recorder.plot()"
   ]
  },
  {
   "cell_type": "code",
   "execution_count": null,
   "metadata": {
    "_uuid": "7562ca2fd8309aac7fd38fa44167c6a4833a7231"
   },
   "outputs": [],
   "source": [
    "learn.fit_one_cycle(2, max_lr=slice(1e-6,1e-4))"
   ]
  },
  {
   "cell_type": "code",
   "execution_count": null,
   "metadata": {
    "_uuid": "4ecf0938c9cf72c73c2f0f504c959d74dfb4f944"
   },
   "outputs": [],
   "source": [
    "learn.save('stage-2')"
   ]
  },
  {
   "cell_type": "markdown",
   "metadata": {
    "_uuid": "bdad8da0698485557f59cbb9fc2db22651678453"
   },
   "source": [
    "Examine prediction errors in validation set"
   ]
  },
  {
   "cell_type": "code",
   "execution_count": null,
   "metadata": {
    "_uuid": "edebeefc1d24817cdb97e6712ea22f7d99b046ff"
   },
   "outputs": [],
   "source": [
    "interp = ClassificationInterpretation.from_learner(learn)\n",
    "losses,idxs = interp.top_losses()\n",
    "len(data.valid_ds)==len(losses)==len(idxs)"
   ]
  },
  {
   "cell_type": "code",
   "execution_count": null,
   "metadata": {
    "_uuid": "ed06d8f02622ab23136291aaa1357e4bf679bd5e"
   },
   "outputs": [],
   "source": [
    "interp.plot_top_losses(9, figsize=(15,11))"
   ]
  },
  {
   "cell_type": "code",
   "execution_count": null,
   "metadata": {
    "_uuid": "d65b4add69537f1d9427f82d5b4d68e491f1e176"
   },
   "outputs": [],
   "source": [
    "interp.plot_confusion_matrix(figsize=(9,9), dpi=60)"
   ]
  },
  {
   "cell_type": "code",
   "execution_count": null,
   "metadata": {
    "_uuid": "d09707f649e3af92b4fcaa742aa7fcb233a30de1"
   },
   "outputs": [],
   "source": [
    "interp.most_confused(min_val=2)"
   ]
  },
  {
   "cell_type": "code",
   "execution_count": null,
   "metadata": {
    "_uuid": "5348133de04566226524c7fad7b95292891cd2d4"
   },
   "outputs": [],
   "source": []
  }
 ],
 "metadata": {
  "kernelspec": {
   "display_name": "Python 3",
   "language": "python",
   "name": "python3"
  },
  "language_info": {
   "codemirror_mode": {
    "name": "ipython",
    "version": 3
   },
   "file_extension": ".py",
   "mimetype": "text/x-python",
   "name": "python",
   "nbconvert_exporter": "python",
   "pygments_lexer": "ipython3",
   "version": "3.6.8"
  },
  "toc": {
   "nav_menu": {},
   "number_sections": true,
   "sideBar": true,
   "skip_h1_title": false,
   "title_cell": "Table of Contents",
   "title_sidebar": "Contents",
   "toc_cell": false,
   "toc_position": {},
   "toc_section_display": true,
   "toc_window_display": false
  }
 },
 "nbformat": 4,
 "nbformat_minor": 1
}
